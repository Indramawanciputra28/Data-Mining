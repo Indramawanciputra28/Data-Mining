{
  "nbformat": 4,
  "nbformat_minor": 0,
  "metadata": {
    "colab": {
      "provenance": [],
      "authorship_tag": "ABX9TyPADEXJQbjT0g+CJq+am5ue",
      "include_colab_link": true
    },
    "kernelspec": {
      "name": "python3",
      "display_name": "Python 3"
    },
    "language_info": {
      "name": "python"
    }
  },
  "cells": [
    {
      "cell_type": "markdown",
      "metadata": {
        "id": "view-in-github",
        "colab_type": "text"
      },
      "source": [
        "<a href=\"https://colab.research.google.com/github/Indramawanciputra28/Data-Mining/blob/main/Regresi_Linear_Data_Berat_dan_Tinggi_Badan.ipynb\" target=\"_parent\"><img src=\"https://colab.research.google.com/assets/colab-badge.svg\" alt=\"Open In Colab\"/></a>"
      ]
    },
    {
      "cell_type": "code",
      "execution_count": 1,
      "metadata": {
        "colab": {
          "base_uri": "https://localhost:8080/"
        },
        "id": "Y7_2NupPtzXR",
        "outputId": "daab86b9-9833-48cb-b535-534107b830ed"
      },
      "outputs": [
        {
          "output_type": "stream",
          "name": "stdout",
          "text": [
            "63.41109074243812\n"
          ]
        }
      ],
      "source": [
        "# [1] Import library yang diperlukan Scipy\n",
        "from scipy import stats\n",
        "# Library `stats` dari scipy digunakan untuk analisis statistik, seperti regresi linier.\n",
        "\n",
        "# [2] x = data tinggi badan (cm)\n",
        "x = [151, 174, 138, 186, 128, 136, 179, 163, 152, 131]\n",
        "# Variabel `x` berisi data tinggi badan dalam satuan cm.\n",
        "\n",
        "# [3] y = data berat badan (kg)\n",
        "y = [63, 81, 56, 91, 47, 57, 76, 72, 62, 48]\n",
        "# Variabel `y` berisi data berat badan dalam satuan kg yang berkorelasi dengan data tinggi badan.\n",
        "\n",
        "# [4] Hitung parameter regresi linier\n",
        "slope, intercept, r, p, std_err = stats.linregress(x, y)\n",
        "# Fungsi `stats.linregress` menghitung parameter regresi linier:\n",
        "# - slope: kemiringan garis regresi\n",
        "# - intercept: titik potong garis dengan sumbu-y\n",
        "# - r: koefisien korelasi\n",
        "# - p: nilai-p (p-value)\n",
        "# - std_err: standar error dari slope.\n",
        "\n",
        "# [5] Buat fungsi regresi linier => y = slope * x + intercept\n",
        "def myfunc(x):\n",
        "    return slope * x + intercept\n",
        "# Fungsi `myfunc` digunakan untuk menghitung prediksi berat badan berdasarkan tinggi badan menggunakan garis regresi.\n",
        "\n",
        "# [6] Prediksi berat badan untuk tinggi badan 151 cm\n",
        "berat_badan = myfunc(151)\n",
        "# Memasukkan tinggi badan (151 cm) ke dalam fungsi `myfunc` untuk mendapatkan prediksi berat badan.\n",
        "\n",
        "# [7] Cetak hasil prediksi berat badan\n",
        "print(berat_badan)\n",
        "# Menampilkan hasil prediksi berat badan, yaitu 63.411 kg.\n"
      ]
    }
  ]
}