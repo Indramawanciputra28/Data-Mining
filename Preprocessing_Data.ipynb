{
  "nbformat": 4,
  "nbformat_minor": 0,
  "metadata": {
    "colab": {
      "provenance": [],
      "include_colab_link": true
    },
    "kernelspec": {
      "name": "python3",
      "display_name": "Python 3"
    },
    "language_info": {
      "name": "python"
    }
  },
  "cells": [
    {
      "cell_type": "markdown",
      "metadata": {
        "id": "view-in-github",
        "colab_type": "text"
      },
      "source": [
        "<a href=\"https://colab.research.google.com/github/Indramawanciputra28/Data-Mining/blob/main/Preprocessing_Data.ipynb\" target=\"_parent\"><img src=\"https://colab.research.google.com/assets/colab-badge.svg\" alt=\"Open In Colab\"/></a>"
      ]
    },
    {
      "cell_type": "code",
      "execution_count": null,
      "metadata": {
        "id": "ruhIOz6-JYEY"
      },
      "outputs": [],
      "source": [
        "import numpy as np\n",
        "import matplotlib.pyplot as plt\n",
        "import pandas as pd"
      ]
    },
    {
      "cell_type": "markdown",
      "source": [
        "Numpy merupakan library python digunakan untuk komputasi matriks.\n",
        "Matplotlib merupakan library python untuk presentasi data berupa grafik atau plot. ..."
      ],
      "metadata": {
        "id": "A1Oy_dcSgsqY"
      }
    },
    {
      "cell_type": "code",
      "source": [
        "dataset = pd.read_csv('Data3.csv')\n",
        "x = dataset.iloc[:, :-1].values\n",
        "y = dataset.iloc[:, -1].values"
      ],
      "metadata": {
        "id": "FmkQWp06KRom"
      },
      "execution_count": null,
      "outputs": []
    },
    {
      "cell_type": "code",
      "source": [
        "print(x)"
      ],
      "metadata": {
        "colab": {
          "base_uri": "https://localhost:8080/"
        },
        "id": "j9nDVJkxKblR",
        "outputId": "d8a27d37-2710-4424-adfb-acce24b5991a"
      },
      "execution_count": null,
      "outputs": [
        {
          "output_type": "stream",
          "name": "stdout",
          "text": [
            "[['France' 44.0 72000.0]\n",
            " ['Spain' 27.0 48000.0]\n",
            " ['Germany' 30.0 54000.0]\n",
            " ['Spain' 38.0 61000.0]\n",
            " ['Germany' 40.0 nan]\n",
            " ['France' 35.0 58000.0]\n",
            " ['Spain' nan 52000.0]\n",
            " ['France' 48.0 79000.0]\n",
            " ['Germany' 50.0 83000.0]\n",
            " ['France' 37.0 67000.0]\n",
            " ['Japan' 48.0 nan]\n",
            " ['India' nan 78000.0]\n",
            " ['UAE' 50.0 28000.0]\n",
            " ['Australia' nan 56000.0]\n",
            " ['Korea' 39.0 44000.0]]\n"
          ]
        }
      ]
    },
    {
      "cell_type": "code",
      "source": [
        "print(y)"
      ],
      "metadata": {
        "colab": {
          "base_uri": "https://localhost:8080/"
        },
        "id": "5eREOzC8KjWJ",
        "outputId": "97cd73ba-a044-47a9-87ab-5ed18a4557c5"
      },
      "execution_count": null,
      "outputs": [
        {
          "output_type": "stream",
          "name": "stdout",
          "text": [
            "['No' 'Yes' 'No' 'No' 'Yes' 'Yes' 'No' 'Yes' 'No' 'Yes' 'No' 'Yes' 'Yes'\n",
            " 'Yes' 'No']\n"
          ]
        }
      ]
    },
    {
      "cell_type": "code",
      "source": [
        "from sklearn.impute import SimpleImputer\n",
        "imputer = SimpleImputer(missing_values=np.nan, strategy='mean')\n",
        "imputer.fit(x[:, 1:3])\n",
        "x[:, 1:3] = imputer.transform(x[:, 1:3])"
      ],
      "metadata": {
        "id": "CpjdonMeKosz"
      },
      "execution_count": null,
      "outputs": []
    },
    {
      "cell_type": "code",
      "source": [
        "print(x)"
      ],
      "metadata": {
        "colab": {
          "base_uri": "https://localhost:8080/"
        },
        "id": "S5z45D4HLBsd",
        "outputId": "b098864e-2131-4ac5-9794-96e06dbea65a"
      },
      "execution_count": null,
      "outputs": [
        {
          "output_type": "stream",
          "name": "stdout",
          "text": [
            "[['France' 44.0 72000.0]\n",
            " ['Spain' 27.0 48000.0]\n",
            " ['Germany' 30.0 54000.0]\n",
            " ['Spain' 38.0 61000.0]\n",
            " ['Germany' 40.0 60000.0]\n",
            " ['France' 35.0 58000.0]\n",
            " ['Spain' 40.5 52000.0]\n",
            " ['France' 48.0 79000.0]\n",
            " ['Germany' 50.0 83000.0]\n",
            " ['France' 37.0 67000.0]\n",
            " ['Japan' 48.0 60000.0]\n",
            " ['India' 40.5 78000.0]\n",
            " ['UAE' 50.0 28000.0]\n",
            " ['Australia' 40.5 56000.0]\n",
            " ['Korea' 39.0 44000.0]]\n"
          ]
        }
      ]
    },
    {
      "cell_type": "markdown",
      "source": [],
      "metadata": {
        "id": "ITzDvDM_nZ8K"
      }
    },
    {
      "cell_type": "code",
      "source": [
        "from sklearn.compose import ColumnTransformer\n",
        "from sklearn.preprocessing import OneHotEncoder\n",
        "ct = ColumnTransformer(transformers=[('encoder', OneHotEncoder(), [0])], remainder='passthrough')\n",
        "x = np.array(ct.fit_transform(x))\n",
        "\n"
      ],
      "metadata": {
        "id": "jp1i96evLDj5"
      },
      "execution_count": null,
      "outputs": []
    },
    {
      "cell_type": "code",
      "source": [
        "print(x)"
      ],
      "metadata": {
        "colab": {
          "base_uri": "https://localhost:8080/"
        },
        "id": "W2Z8ujsdLHPe",
        "outputId": "4436bf50-3ff0-47dc-aaff-50e908c1787b"
      },
      "execution_count": null,
      "outputs": [
        {
          "output_type": "stream",
          "name": "stdout",
          "text": [
            "[[0.0 1.0 0.0 0.0 0.0 0.0 0.0 0.0 44.0 72000.0]\n",
            " [0.0 0.0 0.0 0.0 0.0 0.0 1.0 0.0 27.0 48000.0]\n",
            " [0.0 0.0 1.0 0.0 0.0 0.0 0.0 0.0 30.0 54000.0]\n",
            " [0.0 0.0 0.0 0.0 0.0 0.0 1.0 0.0 38.0 61000.0]\n",
            " [0.0 0.0 1.0 0.0 0.0 0.0 0.0 0.0 40.0 60000.0]\n",
            " [0.0 1.0 0.0 0.0 0.0 0.0 0.0 0.0 35.0 58000.0]\n",
            " [0.0 0.0 0.0 0.0 0.0 0.0 1.0 0.0 40.5 52000.0]\n",
            " [0.0 1.0 0.0 0.0 0.0 0.0 0.0 0.0 48.0 79000.0]\n",
            " [0.0 0.0 1.0 0.0 0.0 0.0 0.0 0.0 50.0 83000.0]\n",
            " [0.0 1.0 0.0 0.0 0.0 0.0 0.0 0.0 37.0 67000.0]\n",
            " [0.0 0.0 0.0 0.0 1.0 0.0 0.0 0.0 48.0 60000.0]\n",
            " [0.0 0.0 0.0 1.0 0.0 0.0 0.0 0.0 40.5 78000.0]\n",
            " [0.0 0.0 0.0 0.0 0.0 0.0 0.0 1.0 50.0 28000.0]\n",
            " [1.0 0.0 0.0 0.0 0.0 0.0 0.0 0.0 40.5 56000.0]\n",
            " [0.0 0.0 0.0 0.0 0.0 1.0 0.0 0.0 39.0 44000.0]]\n"
          ]
        }
      ]
    },
    {
      "cell_type": "code",
      "source": [
        "from sklearn.preprocessing import LabelEncoder\n",
        "le = LabelEncoder()\n",
        "y = le.fit_transform(y)"
      ],
      "metadata": {
        "id": "utavEKPhLN5A"
      },
      "execution_count": null,
      "outputs": []
    },
    {
      "cell_type": "code",
      "source": [
        "print(y)"
      ],
      "metadata": {
        "colab": {
          "base_uri": "https://localhost:8080/"
        },
        "id": "FOgtrT0pLOyP",
        "outputId": "cf6b3418-fe76-49ee-b215-80541f3a1415"
      },
      "execution_count": null,
      "outputs": [
        {
          "output_type": "stream",
          "name": "stdout",
          "text": [
            "[0 1 0 0 1 1 0 1 0 1 0 1 1 1 0]\n"
          ]
        }
      ]
    },
    {
      "cell_type": "code",
      "source": [
        "from sklearn.model_selection import train_test_split\n",
        "x_train, x_test, y_train, y_test = train_test_split(x, y, test_size=0.2, random_state=1)"
      ],
      "metadata": {
        "id": "4dKFK929LeHl"
      },
      "execution_count": null,
      "outputs": []
    },
    {
      "cell_type": "code",
      "source": [
        "print(x_train)"
      ],
      "metadata": {
        "colab": {
          "base_uri": "https://localhost:8080/"
        },
        "id": "_TJuILjJLewp",
        "outputId": "b9acbbe0-93ca-4a72-a465-5e049d0bc960"
      },
      "execution_count": null,
      "outputs": [
        {
          "output_type": "stream",
          "name": "stdout",
          "text": [
            "[[0.0 0.0 1.0 0.0 0.0 0.0 0.0 0.0 30.0 54000.0]\n",
            " [0.0 0.0 0.0 0.0 1.0 0.0 0.0 0.0 48.0 60000.0]\n",
            " [0.0 0.0 1.0 0.0 0.0 0.0 0.0 0.0 40.0 60000.0]\n",
            " [0.0 0.0 0.0 0.0 0.0 0.0 1.0 0.0 27.0 48000.0]\n",
            " [1.0 0.0 0.0 0.0 0.0 0.0 0.0 0.0 40.5 56000.0]\n",
            " [0.0 1.0 0.0 0.0 0.0 0.0 0.0 0.0 44.0 72000.0]\n",
            " [0.0 0.0 0.0 0.0 0.0 1.0 0.0 0.0 39.0 44000.0]\n",
            " [0.0 1.0 0.0 0.0 0.0 0.0 0.0 0.0 37.0 67000.0]\n",
            " [0.0 0.0 1.0 0.0 0.0 0.0 0.0 0.0 50.0 83000.0]\n",
            " [0.0 0.0 0.0 0.0 0.0 0.0 0.0 1.0 50.0 28000.0]\n",
            " [0.0 0.0 0.0 1.0 0.0 0.0 0.0 0.0 40.5 78000.0]\n",
            " [0.0 1.0 0.0 0.0 0.0 0.0 0.0 0.0 35.0 58000.0]]\n"
          ]
        }
      ]
    },
    {
      "cell_type": "code",
      "source": [
        "print(x_test)"
      ],
      "metadata": {
        "colab": {
          "base_uri": "https://localhost:8080/"
        },
        "id": "HfqWcA53qTJm",
        "outputId": "866bf2ab-6d9d-4fe9-f017-02caf918c6a4"
      },
      "execution_count": null,
      "outputs": [
        {
          "output_type": "stream",
          "name": "stdout",
          "text": [
            "[[0.0 0.0 0.0 0.0 0.0 0.0 1.0 0.0 38.0 61000.0]\n",
            " [0.0 1.0 0.0 0.0 0.0 0.0 0.0 0.0 48.0 79000.0]\n",
            " [0.0 0.0 0.0 0.0 0.0 0.0 1.0 0.0 40.5 52000.0]]\n"
          ]
        }
      ]
    },
    {
      "cell_type": "code",
      "source": [
        "print(y_train)"
      ],
      "metadata": {
        "colab": {
          "base_uri": "https://localhost:8080/"
        },
        "id": "s4atA8F1qaCG",
        "outputId": "edbaaaa4-316c-45ce-c973-698c03564e6e"
      },
      "execution_count": null,
      "outputs": [
        {
          "output_type": "stream",
          "name": "stdout",
          "text": [
            "[0 0 1 1 1 0 0 1 0 1 1 1]\n"
          ]
        }
      ]
    },
    {
      "cell_type": "code",
      "source": [
        "print(y_test)"
      ],
      "metadata": {
        "colab": {
          "base_uri": "https://localhost:8080/"
        },
        "id": "TZbqsq4Aqd7P",
        "outputId": "60ce2173-edf4-46b5-ca4d-659c7d43e9ef"
      },
      "execution_count": null,
      "outputs": [
        {
          "output_type": "stream",
          "name": "stdout",
          "text": [
            "[0 1 0]\n"
          ]
        }
      ]
    },
    {
      "cell_type": "code",
      "source": [
        "from sklearn.preprocessing import StandardScaler\n",
        "sc = StandardScaler()\n",
        "x_train[:, 3:] = sc.fit_transform(x_train[:, 3:])\n",
        "x_test[:, 3:] = sc.transform(x_test[:, 3:])\n",
        ""
      ],
      "metadata": {
        "id": "jxRK_nh0qqa-"
      },
      "execution_count": null,
      "outputs": []
    },
    {
      "cell_type": "code",
      "source": [
        "print(x_train)"
      ],
      "metadata": {
        "colab": {
          "base_uri": "https://localhost:8080/"
        },
        "id": "5N0HIA7tqy0N",
        "outputId": "73a20ad7-8c75-4e26-c85b-92a6443b6777"
      },
      "execution_count": null,
      "outputs": [
        {
          "output_type": "stream",
          "name": "stdout",
          "text": [
            "[[0.0 0.0 1.0 -0.30151134457776363 -0.3015113445777637\n",
            "  -0.30151134457776363 -0.30151134457776363 -0.30151134457776363\n",
            "  -1.4448855601907118 -0.3454442679267334]\n",
            " [0.0 0.0 0.0 -0.30151134457776363 3.3166247903554007\n",
            "  -0.30151134457776363 -0.30151134457776363 -0.30151134457776363\n",
            "  1.13441428279436 0.06908885358534668]\n",
            " [0.0 0.0 1.0 -0.30151134457776363 -0.3015113445777637\n",
            "  -0.30151134457776363 -0.30151134457776363 -0.30151134457776363\n",
            "  -0.01194120297678308 0.06908885358534668]\n",
            " [0.0 0.0 0.0 -0.30151134457776363 -0.3015113445777637\n",
            "  -0.30151134457776363 3.3166247903554 -0.30151134457776363\n",
            "  -1.8747688673548906 -0.7599773894388134]\n",
            " [1.0 0.0 0.0 -0.30151134457776363 -0.3015113445777637\n",
            "  -0.30151134457776363 -0.30151134457776363 -0.30151134457776363\n",
            "  0.05970601488391336 -0.20726656075604002]\n",
            " [0.0 1.0 0.0 -0.30151134457776363 -0.3015113445777637\n",
            "  -0.30151134457776363 -0.30151134457776363 -0.30151134457776363\n",
            "  0.5612365399087884 0.8981550966095069]\n",
            " [0.0 0.0 0.0 -0.30151134457776363 -0.3015113445777637 3.3166247903554\n",
            "  -0.30151134457776363 -0.30151134457776363 -0.15523563869817594\n",
            "  -1.0363328037802002]\n",
            " [0.0 1.0 0.0 -0.30151134457776363 -0.3015113445777637\n",
            "  -0.30151134457776363 -0.30151134457776363 -0.30151134457776363\n",
            "  -0.4418245101409617 0.5527108286827734]\n",
            " [0.0 0.0 1.0 -0.30151134457776363 -0.3015113445777637\n",
            "  -0.30151134457776363 -0.30151134457776363 -0.30151134457776363\n",
            "  1.4210031542371457 1.6581324860483202]\n",
            " [0.0 0.0 0.0 -0.30151134457776363 -0.3015113445777637\n",
            "  -0.30151134457776363 -0.30151134457776363 3.3166247903554\n",
            "  1.4210031542371457 -2.141754461145747]\n",
            " [0.0 0.0 0.0 3.3166247903554 -0.3015113445777637 -0.30151134457776363\n",
            "  -0.30151134457776363 -0.30151134457776363 0.05970601488391336\n",
            "  1.3126882181215869]\n",
            " [0.0 1.0 0.0 -0.30151134457776363 -0.3015113445777637\n",
            "  -0.30151134457776363 -0.30151134457776363 -0.30151134457776363\n",
            "  -0.7284133815837475 -0.06908885358534668]]\n"
          ]
        }
      ]
    },
    {
      "cell_type": "code",
      "source": [
        "print(x_test)"
      ],
      "metadata": {
        "colab": {
          "base_uri": "https://localhost:8080/"
        },
        "id": "J9wej29Sq2xg",
        "outputId": "15d6208e-4588-4383-95d7-65b026a7ddc7"
      },
      "execution_count": null,
      "outputs": [
        {
          "output_type": "stream",
          "name": "stdout",
          "text": [
            "[[0.0 0.0 0.0 -0.30151134457776363 -0.3015113445777637\n",
            "  -0.30151134457776363 3.3166247903554 -0.30151134457776363\n",
            "  -0.29853007441956886 0.13817770717069336]\n",
            " [0.0 1.0 0.0 -0.30151134457776363 -0.3015113445777637\n",
            "  -0.30151134457776363 -0.30151134457776363 -0.30151134457776363\n",
            "  1.13441428279436 1.3817770717069335]\n",
            " [0.0 0.0 0.0 -0.30151134457776363 -0.3015113445777637\n",
            "  -0.30151134457776363 3.3166247903554 -0.30151134457776363\n",
            "  0.05970601488391336 -0.48362197509742677]]\n"
          ]
        }
      ]
    }
  ]
}